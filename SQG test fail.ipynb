{
 "cells": [
  {
   "cell_type": "code",
   "execution_count": 1,
   "id": "77cb57b7",
   "metadata": {},
   "outputs": [],
   "source": [
    "import matplotlib.pyplot as plt\n",
    "import numpy as np\n",
    "from numpy import pi\n",
    "import pyqg"
   ]
  },
  {
   "cell_type": "code",
   "execution_count": 4,
   "id": "176fa62c",
   "metadata": {},
   "outputs": [
    {
     "name": "stderr",
     "output_type": "stream",
     "text": [
      "INFO:  Logger initialized\n",
      "INFO: Step: 1000, Time: 2.50e+00, KE: 9.63e-01, CFL: 0.186\n",
      "INFO: Step: 2000, Time: 5.00e+00, KE: 9.58e-01, CFL: 0.191\n"
     ]
    },
    {
     "name": "stdout",
     "output_type": "stream",
     "text": [
      "time:       5\n",
      "q norm: 7847.664033216255\n",
      "test value: 7847.5169609881032\n",
      "p norm: 1346.9043390598495\n",
      "test value: 1346.8874163575524\n",
      "ke: 0.9579673273200403\n",
      "test value: 0.9579493831013508\n"
     ]
    },
    {
     "ename": "AssertionError",
     "evalue": "\nNot equal to tolerance rtol=1e-05, atol=1e-14\n Inconsistent with reference solution\nMismatched elements: 1 / 1 (100%)\nMax absolute difference: 0.14707223\nMax relative difference: 1.87412437e-05\n x: array(7847.664033)\n y: array(7847.516961)",
     "output_type": "error",
     "traceback": [
      "\u001b[0;31m---------------------------------------------------------------------------\u001b[0m",
      "\u001b[0;31mAssertionError\u001b[0m                            Traceback (most recent call last)",
      "\u001b[0;32m/tmp/ipykernel_28900/736914684.py\u001b[0m in \u001b[0;36m<module>\u001b[0;34m\u001b[0m\n\u001b[1;32m     35\u001b[0m \u001b[0mprint\u001b[0m\u001b[0;34m(\u001b[0m\u001b[0;34m\"test value: 0.9579493831013508\"\u001b[0m\u001b[0;34m)\u001b[0m\u001b[0;34m\u001b[0m\u001b[0;34m\u001b[0m\u001b[0m\n\u001b[1;32m     36\u001b[0m \u001b[0;34m\u001b[0m\u001b[0m\n\u001b[0;32m---> 37\u001b[0;31m \u001b[0mnp\u001b[0m\u001b[0;34m.\u001b[0m\u001b[0mtesting\u001b[0m\u001b[0;34m.\u001b[0m\u001b[0massert_allclose\u001b[0m\u001b[0;34m(\u001b[0m\u001b[0mqnorm\u001b[0m\u001b[0;34m,\u001b[0m \u001b[0;36m7847.5169609881032\u001b[0m\u001b[0;34m,\u001b[0m \u001b[0mrtol\u001b[0m\u001b[0;34m,\u001b[0m \u001b[0matol\u001b[0m\u001b[0;34m,\u001b[0m \u001b[0merr_msg\u001b[0m\u001b[0;34m=\u001b[0m \u001b[0;34m' Inconsistent with reference solution'\u001b[0m\u001b[0;34m)\u001b[0m\u001b[0;34m\u001b[0m\u001b[0;34m\u001b[0m\u001b[0m\n\u001b[0m\u001b[1;32m     38\u001b[0m \u001b[0mnp\u001b[0m\u001b[0;34m.\u001b[0m\u001b[0mtesting\u001b[0m\u001b[0;34m.\u001b[0m\u001b[0massert_allclose\u001b[0m\u001b[0;34m(\u001b[0m\u001b[0mpnorm\u001b[0m\u001b[0;34m,\u001b[0m \u001b[0;36m1346.8874163575524\u001b[0m\u001b[0;34m,\u001b[0m \u001b[0mrtol\u001b[0m\u001b[0;34m,\u001b[0m \u001b[0matol\u001b[0m\u001b[0;34m,\u001b[0m \u001b[0merr_msg\u001b[0m\u001b[0;34m=\u001b[0m \u001b[0;34m' Inconsistent with reference solution'\u001b[0m\u001b[0;34m)\u001b[0m\u001b[0;34m\u001b[0m\u001b[0;34m\u001b[0m\u001b[0m\n\u001b[1;32m     39\u001b[0m \u001b[0mnp\u001b[0m\u001b[0;34m.\u001b[0m\u001b[0mtesting\u001b[0m\u001b[0;34m.\u001b[0m\u001b[0massert_allclose\u001b[0m\u001b[0;34m(\u001b[0m\u001b[0mke\u001b[0m\u001b[0;34m,\u001b[0m \u001b[0;36m0.9579493831013508\u001b[0m\u001b[0;34m,\u001b[0m \u001b[0mrtol\u001b[0m\u001b[0;34m,\u001b[0m \u001b[0matol\u001b[0m\u001b[0;34m,\u001b[0m \u001b[0merr_msg\u001b[0m\u001b[0;34m=\u001b[0m \u001b[0;34m' Inconsistent with reference solution'\u001b[0m\u001b[0;34m)\u001b[0m\u001b[0;34m\u001b[0m\u001b[0;34m\u001b[0m\u001b[0m\n",
      "    \u001b[0;31m[... skipping hidden 1 frame]\u001b[0m\n",
      "\u001b[0;32m~/miniconda3/envs/pyqgenv/lib/python3.8/site-packages/numpy/testing/_private/utils.py\u001b[0m in \u001b[0;36massert_array_compare\u001b[0;34m(comparison, x, y, err_msg, verbose, header, precision, equal_nan, equal_inf)\u001b[0m\n\u001b[1;32m    842\u001b[0m                                 \u001b[0mverbose\u001b[0m\u001b[0;34m=\u001b[0m\u001b[0mverbose\u001b[0m\u001b[0;34m,\u001b[0m \u001b[0mheader\u001b[0m\u001b[0;34m=\u001b[0m\u001b[0mheader\u001b[0m\u001b[0;34m,\u001b[0m\u001b[0;34m\u001b[0m\u001b[0;34m\u001b[0m\u001b[0m\n\u001b[1;32m    843\u001b[0m                                 names=('x', 'y'), precision=precision)\n\u001b[0;32m--> 844\u001b[0;31m             \u001b[0;32mraise\u001b[0m \u001b[0mAssertionError\u001b[0m\u001b[0;34m(\u001b[0m\u001b[0mmsg\u001b[0m\u001b[0;34m)\u001b[0m\u001b[0;34m\u001b[0m\u001b[0;34m\u001b[0m\u001b[0m\n\u001b[0m\u001b[1;32m    845\u001b[0m     \u001b[0;32mexcept\u001b[0m \u001b[0mValueError\u001b[0m\u001b[0;34m:\u001b[0m\u001b[0;34m\u001b[0m\u001b[0;34m\u001b[0m\u001b[0m\n\u001b[1;32m    846\u001b[0m         \u001b[0;32mimport\u001b[0m \u001b[0mtraceback\u001b[0m\u001b[0;34m\u001b[0m\u001b[0;34m\u001b[0m\u001b[0m\n",
      "\u001b[0;31mAssertionError\u001b[0m: \nNot equal to tolerance rtol=1e-05, atol=1e-14\n Inconsistent with reference solution\nMismatched elements: 1 / 1 (100%)\nMax absolute difference: 0.14707223\nMax relative difference: 1.87412437e-05\n x: array(7847.664033)\n y: array(7847.516961)"
     ]
    }
   ],
   "source": [
    "m = pyqg.SQGModel(L=2.*np.pi,nx=64, tmax = 5.,\n",
    "                beta = 0., H = 1., dt = 0.0025,\n",
    "                twrite=1000)\n",
    "\n",
    "p = np.exp(-(2.*(m.x-1.75*np.pi/2))**2.-(2.*(m.y-np.pi))**2) +\\\n",
    "                np.exp(-(2.*(m.x-2.25*np.pi/2))**2.-(2.*(m.y-np.pi))**2)\n",
    "\n",
    "ph = m.fft(p[np.newaxis,:,:])\n",
    "KEaux = m.spec_var( m.filtr*m.wv*ph )/2.\n",
    "ph = ( ph/np.sqrt(KEaux) )\n",
    "qih = m.wv*ph\n",
    "qi = m.ifft(qih)\n",
    "m.set_q(qi)\n",
    "\n",
    "rtol = 1.e-5\n",
    "atol = 1.e-14\n",
    "\n",
    "np.testing.assert_allclose(m.q, qi, atol)\n",
    "\n",
    "m.run()\n",
    "\n",
    "qnorm = (m.q**2).sum()\n",
    "mp = m.ifft(m.ph)\n",
    "pnorm = (mp**2).sum()\n",
    "ke = m._calc_ke()\n",
    "\n",
    "print('time:       %g' % m.t)\n",
    "assert m.t == 5.000000000000082\n",
    "\n",
    "print(\"q norm: \" + str(qnorm))\n",
    "print(\"test value: 7847.5169609881032\")\n",
    "print(\"p norm: \" + str(pnorm))\n",
    "print(\"test value: 1346.8874163575524\")\n",
    "print(\"ke: \" + str(ke))\n",
    "print(\"test value: 0.9579493831013508\")\n",
    "\n",
    "np.testing.assert_allclose(qnorm, 7847.5169609881032, rtol, atol, err_msg= ' Inconsistent with reference solution')\n",
    "np.testing.assert_allclose(pnorm, 1346.8874163575524, rtol, atol, err_msg= ' Inconsistent with reference solution')\n",
    "np.testing.assert_allclose(ke, 0.9579493831013508, rtol, atol, err_msg= ' Inconsistent with reference solution')"
   ]
  }
 ],
 "metadata": {
  "kernelspec": {
   "display_name": "Python [conda env:pyqgenv]",
   "language": "python",
   "name": "conda-env-pyqgenv-py"
  },
  "language_info": {
   "codemirror_mode": {
    "name": "ipython",
    "version": 3
   },
   "file_extension": ".py",
   "mimetype": "text/x-python",
   "name": "python",
   "nbconvert_exporter": "python",
   "pygments_lexer": "ipython3",
   "version": "3.8.10"
  }
 },
 "nbformat": 4,
 "nbformat_minor": 5
}
